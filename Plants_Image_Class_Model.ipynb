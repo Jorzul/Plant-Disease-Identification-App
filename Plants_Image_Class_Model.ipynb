{
 "cells": [
  {
   "cell_type": "code",
   "execution_count": 3,
   "id": "54d920f2",
   "metadata": {},
   "outputs": [],
   "source": [
    "import numpy as np\n",
    "import pandas as pd\n",
    "import matplotlib.pyplot as plt\n",
    "import tensorflow as tf\n",
    "from tensorflow import keras\n",
    "\n",
    "from keras import layers"
   ]
  },
  {
   "cell_type": "code",
   "execution_count": 4,
   "id": "9fdf44e1",
   "metadata": {},
   "outputs": [],
   "source": [
    "img_width = 180\n",
    "img_height = 180\n",
    "batch_size = 32"
   ]
  },
  {
   "cell_type": "code",
   "execution_count": 5,
   "id": "a0f81697",
   "metadata": {},
   "outputs": [],
   "source": [
    "data_dir = 'Plant_diseases_dataset'"
   ]
  },
  {
   "cell_type": "code",
   "execution_count": 6,
   "id": "a43ed5a4",
   "metadata": {},
   "outputs": [
    {
     "name": "stdout",
     "output_type": "stream",
     "text": [
      "Found 61486 files belonging to 39 classes.\n",
      "Using 49189 files for training.\n"
     ]
    }
   ],
   "source": [
    "# Create training dataset with 80% of the data\n",
    "train_ds = tf.keras.utils.image_dataset_from_directory(\n",
    "    data_dir,\n",
    "    validation_split=0.2, # 20% for validation/test\n",
    "    subset=\"training\",\n",
    "    seed=123,\n",
    "    image_size=(img_height, img_width),\n",
    "    batch_size=batch_size\n",
    ")"
   ]
  },
  {
   "cell_type": "code",
   "execution_count": 7,
   "id": "11cc672b-daf9-444e-836f-2e0b77669898",
   "metadata": {},
   "outputs": [
    {
     "name": "stdout",
     "output_type": "stream",
     "text": [
      "Found 61486 files belonging to 39 classes.\n",
      "Using 12297 files for validation.\n"
     ]
    }
   ],
   "source": [
    "# Create validation dataset with 20% of the data, split further into validation and test\n",
    "val_ds = tf.keras.utils.image_dataset_from_directory(\n",
    "    data_dir,\n",
    "    validation_split=0.2,\n",
    "    subset=\"validation\",\n",
    "    seed=123,\n",
    "    image_size=(img_height, img_width),\n",
    "    batch_size=batch_size\n",
    ")"
   ]
  },
  {
   "cell_type": "code",
   "execution_count": 8,
   "id": "15532adc",
   "metadata": {},
   "outputs": [
    {
     "name": "stdout",
     "output_type": "stream",
     "text": [
      "Number of training batches: 1538\n",
      "Number of validation batches: 193\n",
      "Number of test batches: 192\n"
     ]
    }
   ],
   "source": [
    "# Determine the number of validation batches to use for a test set\n",
    "# For example, if val_ds has 100 batches, we can use the first 50 for validation and the next 50 for testing\n",
    "val_batches = tf.data.experimental.cardinality(val_ds).numpy()\n",
    "test_ds = val_ds.take(val_batches // 2)\n",
    "val_ds = val_ds.skip(val_batches // 2)\n",
    "\n",
    "print(f\"Number of training batches: {tf.data.experimental.cardinality(train_ds).numpy()}\")\n",
    "print(f\"Number of validation batches: {tf.data.experimental.cardinality(val_ds).numpy()}\")\n",
    "print(f\"Number of test batches: {tf.data.experimental.cardinality(test_ds).numpy()}\")"
   ]
  },
  {
   "cell_type": "code",
   "execution_count": 9,
   "id": "c02e56bd",
   "metadata": {},
   "outputs": [
    {
     "name": "stdout",
     "output_type": "stream",
     "text": [
      "Number of classes: 39\n",
      "Class names: ['Apple Black Rot', 'Apple Cedar Rust', 'Apple Scab', 'Cherry Powdery Mildew', 'Corn Cercospora Leaf Spot', 'Corn Common Rust', 'Corn Northern Leaf Blight', 'Grape Black Measles', 'Grape Black Rot', 'Grape Leaf Blight', 'Healthy Apple', 'Healthy Blueberry', 'Healthy Cherry', 'Healthy Corn', 'Healthy Grape', 'Healthy Peach', 'Healthy Pepper Bell', 'Healthy Potato', 'Healthy Raspberry', 'Healthy Soybean', 'Healthy Strawberry', 'Healthy Tomato', 'No Leaf Image', 'Orange Haunglongbing (Citrus Greening)', 'Peach Bacterial Spot', 'Pepper Bell Bacterial Spot', 'Potato Early Blight', 'Potato Late Blight', 'Squash Powdery Mildew', 'Strawberry Leaf Scorch', 'Tomato Bacterial Spot', 'Tomato Early Blight', 'Tomato Late Blight', 'Tomato Leaf Mold', 'Tomato Mosaic Virus', 'Tomato Septoria Leaf Spot', 'Tomato Spider Mites', 'Tomato Target Spot', 'Tomato Yellow Leaf Curl Virus']\n"
     ]
    }
   ],
   "source": [
    "# Get class names\n",
    "class_names = train_ds.class_names\n",
    "num_classes = len(class_names)\n",
    "print(f\"Number of classes: {num_classes}\")\n",
    "print(f\"Class names: {class_names}\")\n",
    "\n",
    "# Configure the dataset for performance\n",
    "AUTOTUNE = tf.data.AUTOTUNE\n",
    "train_ds = train_ds.cache().shuffle(1000).prefetch(buffer_size=AUTOTUNE)\n",
    "val_ds = val_ds.cache().prefetch(buffer_size=AUTOTUNE)\n",
    "test_ds = test_ds.cache().prefetch(buffer_size=AUTOTUNE)"
   ]
  },
  {
   "cell_type": "code",
   "execution_count": 10,
   "id": "6a3b5b0a",
   "metadata": {},
   "outputs": [],
   "source": [
    "model = tf.keras.Sequential([\n",
    "        # Explicitly define the input shape as the first layer\n",
    "        tf.keras.Input(shape=(img_height, img_width, 3)),\n",
    "        \n",
    "        # Data augmentation\n",
    "        layers.RandomFlip(\"horizontal_and_vertical\"),\n",
    "        layers.RandomRotation(0.2),\n",
    "        layers.RandomZoom(0.2),\n",
    "        layers.RandomContrast(0.2),\n",
    "        layers.RandomBrightness(0.2),\n",
    "        \n",
    "        # Rescaling layer (to normalize pixel values from [0, 255] to [0, 1])\n",
    "        layers.Rescaling(1./255),\n",
    "\n",
    "        # Convolutional Block 1\n",
    "        layers.Conv2D(32, (3, 3), activation='relu', padding='same'),\n",
    "        layers.MaxPooling2D(),\n",
    "        layers.Dropout(0.25), # Added Dropout\n",
    "\n",
    "        # Convolutional Block 2\n",
    "        layers.Conv2D(64, (3, 3), activation='relu', padding='same'),\n",
    "        layers.MaxPooling2D(),\n",
    "        layers.Dropout(0.25), # Added Dropout\n",
    "\n",
    "        # Convolutional Block 3\n",
    "        layers.Conv2D(128, (3, 3), activation='relu', padding='same'),\n",
    "        layers.MaxPooling2D(),\n",
    "        layers.Dropout(0.25), # Added Dropout\n",
    "\n",
    "        # Flatten and Dense layers\n",
    "        layers.Flatten(),\n",
    "        layers.Dense(256, activation='relu'),\n",
    "        layers.Dropout(0.5), # Added Dropout\n",
    "        layers.Dense(num_classes, activation='softmax') # Output layer\n",
    "    ])"
   ]
  },
  {
   "cell_type": "code",
   "execution_count": 11,
   "id": "d2d809f0",
   "metadata": {},
   "outputs": [],
   "source": [
    "model.compile(\n",
    "    optimizer='adam',\n",
    "    loss=tf.keras.losses.SparseCategoricalCrossentropy(from_logits=False),\n",
    "    metrics=['accuracy']\n",
    ")"
   ]
  },
  {
   "cell_type": "code",
   "execution_count": 12,
   "id": "7f16f76a",
   "metadata": {},
   "outputs": [],
   "source": [
    "from keras.callbacks import EarlyStopping, ModelCheckpoint\n",
    "\n",
    "# Early Stopping: Stop training if validation accuracy doesn't improve for 10 epochs\n",
    "early_stopping = EarlyStopping(\n",
    "    monitor='val_accuracy',\n",
    "    patience=10,\n",
    "    restore_best_weights=True,\n",
    "    verbose=1\n",
    ")\n",
    "\n",
    "# Model Checkpoint: Save the best model based on validation accuracy\n",
    "model_checkpoint = ModelCheckpoint(\n",
    "    filepath='best_model.keras', # Path to save the best model\n",
    "    monitor='val_accuracy',\n",
    "    save_best_only=True,\n",
    "    verbose=1\n",
    ")"
   ]
  },
  {
   "cell_type": "code",
   "execution_count": 13,
   "id": "d094fa13",
   "metadata": {},
   "outputs": [
    {
     "name": "stdout",
     "output_type": "stream",
     "text": [
      "Epoch 1/10\n",
      "\u001b[1m1538/1538\u001b[0m \u001b[32m━━━━━━━━━━━━━━━━━━━━\u001b[0m\u001b[37m\u001b[0m \u001b[1m0s\u001b[0m 647ms/step - accuracy: 0.2519 - loss: 2.8232\n",
      "Epoch 1: val_accuracy improved from -inf to 0.54559, saving model to best_model.keras\n",
      "\u001b[1m1538/1538\u001b[0m \u001b[32m━━━━━━━━━━━━━━━━━━━━\u001b[0m\u001b[37m\u001b[0m \u001b[1m1226s\u001b[0m 709ms/step - accuracy: 0.2520 - loss: 2.8228 - val_accuracy: 0.5456 - val_loss: 1.4986\n",
      "Epoch 2/10\n",
      "\u001b[1m1538/1538\u001b[0m \u001b[32m━━━━━━━━━━━━━━━━━━━━\u001b[0m\u001b[37m\u001b[0m \u001b[1m0s\u001b[0m 650ms/step - accuracy: 0.5598 - loss: 1.4805\n",
      "Epoch 2: val_accuracy improved from 0.54559 to 0.68406, saving model to best_model.keras\n",
      "\u001b[1m1538/1538\u001b[0m \u001b[32m━━━━━━━━━━━━━━━━━━━━\u001b[0m\u001b[37m\u001b[0m \u001b[1m1062s\u001b[0m 691ms/step - accuracy: 0.5599 - loss: 1.4804 - val_accuracy: 0.6841 - val_loss: 1.0454\n",
      "Epoch 3/10\n",
      "\u001b[1m1538/1538\u001b[0m \u001b[32m━━━━━━━━━━━━━━━━━━━━\u001b[0m\u001b[37m\u001b[0m \u001b[1m0s\u001b[0m 630ms/step - accuracy: 0.6339 - loss: 1.2049\n",
      "Epoch 3: val_accuracy improved from 0.68406 to 0.71412, saving model to best_model.keras\n",
      "\u001b[1m1538/1538\u001b[0m \u001b[32m━━━━━━━━━━━━━━━━━━━━\u001b[0m\u001b[37m\u001b[0m \u001b[1m1034s\u001b[0m 672ms/step - accuracy: 0.6339 - loss: 1.2049 - val_accuracy: 0.7141 - val_loss: 0.9027\n",
      "Epoch 4/10\n",
      "\u001b[1m1538/1538\u001b[0m \u001b[32m━━━━━━━━━━━━━━━━━━━━\u001b[0m\u001b[37m\u001b[0m \u001b[1m0s\u001b[0m 637ms/step - accuracy: 0.6715 - loss: 1.0741\n",
      "Epoch 4: val_accuracy improved from 0.71412 to 0.73801, saving model to best_model.keras\n",
      "\u001b[1m1538/1538\u001b[0m \u001b[32m━━━━━━━━━━━━━━━━━━━━\u001b[0m\u001b[37m\u001b[0m \u001b[1m1046s\u001b[0m 680ms/step - accuracy: 0.6715 - loss: 1.0741 - val_accuracy: 0.7380 - val_loss: 0.8186\n",
      "Epoch 5/10\n",
      "\u001b[1m1538/1538\u001b[0m \u001b[32m━━━━━━━━━━━━━━━━━━━━\u001b[0m\u001b[37m\u001b[0m \u001b[1m0s\u001b[0m 622ms/step - accuracy: 0.7047 - loss: 0.9435\n",
      "Epoch 5: val_accuracy improved from 0.73801 to 0.75914, saving model to best_model.keras\n",
      "\u001b[1m1538/1538\u001b[0m \u001b[32m━━━━━━━━━━━━━━━━━━━━\u001b[0m\u001b[37m\u001b[0m \u001b[1m996s\u001b[0m 648ms/step - accuracy: 0.7047 - loss: 0.9435 - val_accuracy: 0.7591 - val_loss: 0.7240\n",
      "Epoch 6/10\n",
      "\u001b[1m1538/1538\u001b[0m \u001b[32m━━━━━━━━━━━━━━━━━━━━\u001b[0m\u001b[37m\u001b[0m \u001b[1m0s\u001b[0m 622ms/step - accuracy: 0.7324 - loss: 0.8747\n",
      "Epoch 6: val_accuracy did not improve from 0.75914\n",
      "\u001b[1m1538/1538\u001b[0m \u001b[32m━━━━━━━━━━━━━━━━━━━━\u001b[0m\u001b[37m\u001b[0m \u001b[1m998s\u001b[0m 649ms/step - accuracy: 0.7324 - loss: 0.8747 - val_accuracy: 0.6858 - val_loss: 0.9640\n",
      "Epoch 7/10\n",
      "\u001b[1m1538/1538\u001b[0m \u001b[32m━━━━━━━━━━━━━━━━━━━━\u001b[0m\u001b[37m\u001b[0m \u001b[1m0s\u001b[0m 633ms/step - accuracy: 0.7430 - loss: 0.8251\n",
      "Epoch 7: val_accuracy did not improve from 0.75914\n",
      "\u001b[1m1538/1538\u001b[0m \u001b[32m━━━━━━━━━━━━━━━━━━━━\u001b[0m\u001b[37m\u001b[0m \u001b[1m1007s\u001b[0m 655ms/step - accuracy: 0.7430 - loss: 0.8251 - val_accuracy: 0.7101 - val_loss: 0.9062\n",
      "Epoch 8/10\n",
      "\u001b[1m1538/1538\u001b[0m \u001b[32m━━━━━━━━━━━━━━━━━━━━\u001b[0m\u001b[37m\u001b[0m \u001b[1m0s\u001b[0m 618ms/step - accuracy: 0.7564 - loss: 0.7761\n",
      "Epoch 8: val_accuracy did not improve from 0.75914\n",
      "\u001b[1m1538/1538\u001b[0m \u001b[32m━━━━━━━━━━━━━━━━━━━━\u001b[0m\u001b[37m\u001b[0m \u001b[1m979s\u001b[0m 637ms/step - accuracy: 0.7564 - loss: 0.7761 - val_accuracy: 0.7315 - val_loss: 0.8400\n",
      "Epoch 9/10\n",
      "\u001b[1m1538/1538\u001b[0m \u001b[32m━━━━━━━━━━━━━━━━━━━━\u001b[0m\u001b[37m\u001b[0m \u001b[1m0s\u001b[0m 611ms/step - accuracy: 0.7687 - loss: 0.7410\n",
      "Epoch 9: val_accuracy improved from 0.75914 to 0.78547, saving model to best_model.keras\n",
      "\u001b[1m1538/1538\u001b[0m \u001b[32m━━━━━━━━━━━━━━━━━━━━\u001b[0m\u001b[37m\u001b[0m \u001b[1m1000s\u001b[0m 650ms/step - accuracy: 0.7687 - loss: 0.7410 - val_accuracy: 0.7855 - val_loss: 0.6398\n",
      "Epoch 10/10\n",
      "\u001b[1m1538/1538\u001b[0m \u001b[32m━━━━━━━━━━━━━━━━━━━━\u001b[0m\u001b[37m\u001b[0m \u001b[1m0s\u001b[0m 607ms/step - accuracy: 0.7823 - loss: 0.7034\n",
      "Epoch 10: val_accuracy did not improve from 0.78547\n",
      "\u001b[1m1538/1538\u001b[0m \u001b[32m━━━━━━━━━━━━━━━━━━━━\u001b[0m\u001b[37m\u001b[0m \u001b[1m964s\u001b[0m 627ms/step - accuracy: 0.7823 - loss: 0.7034 - val_accuracy: 0.7131 - val_loss: 0.9065\n",
      "Restoring model weights from the end of the best epoch: 9.\n",
      "\n",
      "Evaluating on test set:\n",
      "\u001b[1m192/192\u001b[0m \u001b[32m━━━━━━━━━━━━━━━━━━━━\u001b[0m\u001b[37m\u001b[0m \u001b[1m42s\u001b[0m 215ms/step - accuracy: 0.7868 - loss: 0.6258\n",
      "Test Loss: 0.6258\n",
      "Test Accuracy: 0.7887\n"
     ]
    }
   ],
   "source": [
    "initial_epochs = 10\n",
    "history = model.fit(\n",
    "    train_ds,\n",
    "    epochs=initial_epochs,\n",
    "    validation_data=val_ds,\n",
    "    callbacks=[early_stopping, model_checkpoint]\n",
    ")\n",
    "\n",
    "# Evaluate the model on the test set\n",
    "print(\"\\nEvaluating on test set:\")\n",
    "loss, accuracy = model.evaluate(test_ds)\n",
    "print(f\"Test Loss: {loss:.4f}\")\n",
    "print(f\"Test Accuracy: {accuracy:.4f}\")"
   ]
  },
  {
   "cell_type": "code",
   "execution_count": 15,
   "id": "3ad691b8",
   "metadata": {},
   "outputs": [
    {
     "data": {
      "text/plain": [
       "Text(0.5, 1.0, 'Loss')"
      ]
     },
     "execution_count": 15,
     "metadata": {},
     "output_type": "execute_result"
    },
    {
     "data": {
      "image/png": "[encoded data removed]",
      "text/plain": [
       "<Figure size 800x800 with 2 Axes>"
      ]
     },
     "metadata": {},
     "output_type": "display_data"
    }
   ],
   "source": [
    "epochs_range = range(initial_epochs)\n",
    "plt.figure(figsize=(8,8))\n",
    "plt.subplot(1,2,1)\n",
    "plt.plot(epochs_range, \n",
    "         history.history['accuracy'], \n",
    "         label='Training Accuracy')\n",
    "plt.plot(epochs_range, \n",
    "         history.history['val_accuracy'], \n",
    "         label='Validation Accuracy')\n",
    "plt.title('Accuracy')\n",
    "\n",
    "plt.subplot(1,2,2)\n",
    "plt.plot(epochs_range, \n",
    "         history.history['loss'], \n",
    "         label='Training Loss')\n",
    "plt.plot(epochs_range, \n",
    "         history.history['val_loss'], \n",
    "         label='Validation Loss')\n",
    "plt.title('Loss')"
   ]
  },
  {
   "cell_type": "code",
   "execution_count": 16,
   "id": "b08139a1",
   "metadata": {},
   "outputs": [],
   "source": [
    "image = 'Plants-leaves-images/1.png'\n",
    "image = tf.keras.utils.load_img(\n",
    "    image, \n",
    "    target_size=(img_height, img_width))\n",
    "img_arr = tf.keras.utils.array_to_img(image)\n",
    "img_bat = tf.expand_dims(img_arr, 0)"
   ]
  },
  {
   "cell_type": "code",
   "execution_count": 17,
   "id": "0a29eea9",
   "metadata": {},
   "outputs": [
    {
     "name": "stdout",
     "output_type": "stream",
     "text": [
      "\u001b[1m1/1\u001b[0m \u001b[32m━━━━━━━━━━━━━━━━━━━━\u001b[0m\u001b[37m\u001b[0m \u001b[1m0s\u001b[0m 437ms/step\n"
     ]
    }
   ],
   "source": [
    "predict = model.predict(img_bat)"
   ]
  },
  {
   "cell_type": "code",
   "execution_count": 18,
   "id": "45b57354",
   "metadata": {},
   "outputs": [],
   "source": [
    "score = tf.nn.softmax(predict[0])"
   ]
  },
  {
   "cell_type": "code",
   "execution_count": 20,
   "id": "60748695",
   "metadata": {},
   "outputs": [
    {
     "name": "stdout",
     "output_type": "stream",
     "text": [
      "Veg/Fruit in image is Apple Black Rot with accuracy of 6.65\n"
     ]
    }
   ],
   "source": [
    "print('Veg/Fruit in image is {} with accuracy of {:0.2f}'.format(class_names[np.argmax(score)], np.max(score)*100))"
   ]
  },
  {
   "cell_type": "code",
   "execution_count": null,
   "id": "198ca47a",
   "metadata": {},
   "outputs": [],
   "source": [
    "model.save('PlantsLeaves_classify_2.keras')"
   ]
  }
 ],
 "metadata": {
  "kernelspec": {
   "display_name": "Plant-Disease-Env",
   "language": "python",
   "name": "python3"
  },
  "language_info": {
   "codemirror_mode": {
    "name": "ipython",
    "version": 3
   },
   "file_extension": ".py",
   "mimetype": "text/x-python",
   "name": "python",
   "nbconvert_exporter": "python",
   "pygments_lexer": "ipython3",
   "version": "3.12.10"
  }
 },
 "nbformat": 4,
 "nbformat_minor": 5
}
