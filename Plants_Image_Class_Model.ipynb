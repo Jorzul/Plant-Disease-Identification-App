{
 "cells": [
  {
   "cell_type": "code",
   "execution_count": 31,
   "id": "54d920f2",
   "metadata": {},
   "outputs": [],
   "source": [
    "import numpy as np\n",
    "import pandas as pd\n",
    "import matplotlib.pyplot as plt\n",
    "import tensorflow as tf\n",
    "from tensorflow import keras\n",
    "\n",
    "from keras import layers"
   ]
  },
  {
   "cell_type": "code",
   "execution_count": 32,
   "id": "9fdf44e1",
   "metadata": {},
   "outputs": [],
   "source": [
    "img_width = 180\n",
    "img_height = 180\n",
    "batch_size = 32"
   ]
  },
  {
   "cell_type": "code",
   "execution_count": 33,
   "id": "a0f81697",
   "metadata": {},
   "outputs": [],
   "source": [
    "data_dir = 'Plant_diseases_dataset'"
   ]
  },
  {
   "cell_type": "code",
   "execution_count": 34,
   "id": "a43ed5a4",
   "metadata": {},
   "outputs": [
    {
     "name": "stdout",
     "output_type": "stream",
     "text": [
      "Found 61486 files belonging to 39 classes.\n",
      "Using 49189 files for training.\n"
     ]
    }
   ],
   "source": [
    "# Create training dataset with 80% of the data\n",
    "train_ds = tf.keras.utils.image_dataset_from_directory(\n",
    "    data_dir,\n",
    "    validation_split=0.2, # 20% for validation/test\n",
    "    subset=\"training\",\n",
    "    seed=123,\n",
    "    image_size=(img_height, img_width),\n",
    "    batch_size=batch_size\n",
    ")"
   ]
  },
  {
   "cell_type": "code",
   "execution_count": 35,
   "id": "11cc672b-daf9-444e-836f-2e0b77669898",
   "metadata": {},
   "outputs": [
    {
     "name": "stdout",
     "output_type": "stream",
     "text": [
      "Found 61486 files belonging to 39 classes.\n",
      "Using 12297 files for validation.\n"
     ]
    }
   ],
   "source": [
    "# Create validation dataset with 20% of the data, split further into validation and test\n",
    "val_ds = tf.keras.utils.image_dataset_from_directory(\n",
    "    data_dir,\n",
    "    validation_split=0.2,\n",
    "    subset=\"validation\",\n",
    "    seed=123,\n",
    "    image_size=(img_height, img_width),\n",
    "    batch_size=batch_size\n",
    ")"
   ]
  },
  {
   "cell_type": "code",
   "execution_count": 36,
   "id": "15532adc",
   "metadata": {},
   "outputs": [
    {
     "name": "stdout",
     "output_type": "stream",
     "text": [
      "Number of training batches: 1538\n",
      "Number of validation batches: 193\n",
      "Number of test batches: 192\n"
     ]
    }
   ],
   "source": [
    "# Determine the number of validation batches to use for a test set\n",
    "# For example, if val_ds has 100 batches, we can use the first 50 for validation and the next 50 for testing\n",
    "val_batches = tf.data.experimental.cardinality(val_ds).numpy()\n",
    "test_ds = val_ds.take(val_batches // 2)\n",
    "val_ds = val_ds.skip(val_batches // 2)\n",
    "\n",
    "print(f\"Number of training batches: {tf.data.experimental.cardinality(train_ds).numpy()}\")\n",
    "print(f\"Number of validation batches: {tf.data.experimental.cardinality(val_ds).numpy()}\")\n",
    "print(f\"Number of test batches: {tf.data.experimental.cardinality(test_ds).numpy()}\")"
   ]
  },
  {
   "cell_type": "code",
   "execution_count": 37,
   "id": "c02e56bd",
   "metadata": {},
   "outputs": [
    {
     "name": "stdout",
     "output_type": "stream",
     "text": [
      "Number of classes: 39\n",
      "Class names: ['Apple Black Rot', 'Apple Cedar Rust', 'Apple Scab', 'Cherry Powdery Mildew', 'Corn Cercospora Leaf Spot', 'Corn Common Rust', 'Corn Northern Leaf Blight', 'Grape Black Measles', 'Grape Black Rot', 'Grape Leaf Blight', 'Healthy Apple', 'Healthy Blueberry', 'Healthy Cherry', 'Healthy Corn', 'Healthy Grape', 'Healthy Peach', 'Healthy Pepper Bell', 'Healthy Potato', 'Healthy Raspberry', 'Healthy Soybean', 'Healthy Strawberry', 'Healthy Tomato', 'No Leaf Image', 'Orange Haunglongbing (Citrus Greening)', 'Peach Bacterial Spot', 'Pepper Bell Bacterial Spot', 'Potato Early Blight', 'Potato Late Blight', 'Squash Powdery Mildew', 'Strawberry Leaf Scorch', 'Tomato Bacterial Spot', 'Tomato Early Blight', 'Tomato Late Blight', 'Tomato Leaf Mold', 'Tomato Mosaic Virus', 'Tomato Septoria Leaf Spot', 'Tomato Spider Mites', 'Tomato Target Spot', 'Tomato Yellow Leaf Curl Virus']\n"
     ]
    }
   ],
   "source": [
    "# Get class names\n",
    "class_names = train_ds.class_names\n",
    "num_classes = len(class_names)\n",
    "print(f\"Number of classes: {num_classes}\")\n",
    "print(f\"Class names: {class_names}\")\n",
    "\n",
    "# Configure the dataset for performance\n",
    "AUTOTUNE = tf.data.AUTOTUNE\n",
    "train_ds = train_ds.cache().shuffle(1000).prefetch(buffer_size=AUTOTUNE)\n",
    "val_ds = val_ds.cache().prefetch(buffer_size=AUTOTUNE)\n",
    "test_ds = test_ds.cache().prefetch(buffer_size=AUTOTUNE)"
   ]
  },
  {
   "cell_type": "code",
   "execution_count": 38,
   "id": "6a3b5b0a",
   "metadata": {},
   "outputs": [],
   "source": [
    "model = tf.keras.Sequential([\n",
    "        # Explicitly define the input shape as the first layer\n",
    "        tf.keras.Input(shape=(img_height, img_width, 3)),\n",
    "        \n",
    "        # Data augmentation\n",
    "        layers.RandomFlip(\"horizontal_and_vertical\"),\n",
    "        layers.RandomRotation(0.2),\n",
    "        layers.RandomZoom(0.2),\n",
    "        layers.RandomContrast(0.2),\n",
    "        layers.RandomBrightness(0.2),\n",
    "        \n",
    "        # Rescaling layer (to normalize pixel values from [0, 255] to [0, 1])\n",
    "        layers.Rescaling(1./255),\n",
    "\n",
    "        # Convolutional Block 1\n",
    "        layers.Conv2D(32, (3, 3), activation='relu', padding='same'),\n",
    "        layers.MaxPooling2D(),\n",
    "        layers.Dropout(0.25), # Added Dropout\n",
    "\n",
    "        # Convolutional Block 2\n",
    "        layers.Conv2D(64, (3, 3), activation='relu', padding='same'),\n",
    "        layers.MaxPooling2D(),\n",
    "        layers.Dropout(0.25), # Added Dropout\n",
    "\n",
    "        # Convolutional Block 3\n",
    "        layers.Conv2D(128, (3, 3), activation='relu', padding='same'),\n",
    "        layers.MaxPooling2D(),\n",
    "        layers.Dropout(0.25), # Added Dropout\n",
    "\n",
    "        # Flatten and Dense layers\n",
    "        layers.Flatten(),\n",
    "        layers.Dense(256, activation='relu'),\n",
    "        layers.Dropout(0.5), # Added Dropout\n",
    "        layers.Dense(num_classes, activation='softmax') # Output layer\n",
    "    ])"
   ]
  },
  {
   "cell_type": "code",
   "execution_count": 39,
   "id": "d2d809f0",
   "metadata": {},
   "outputs": [],
   "source": [
    "model.compile(\n",
    "    optimizer='adam',\n",
    "    loss=tf.keras.losses.SparseCategoricalCrossentropy(from_logits=False),\n",
    "    metrics=['accuracy']\n",
    ")"
   ]
  },
  {
   "cell_type": "code",
   "execution_count": 40,
   "id": "7f16f76a",
   "metadata": {},
   "outputs": [],
   "source": [
    "from keras.callbacks import EarlyStopping, ModelCheckpoint\n",
    "\n",
    "# Early Stopping: Stop training if validation accuracy doesn't improve for 10 epochs\n",
    "early_stopping = EarlyStopping(\n",
    "    monitor='val_accuracy',\n",
    "    patience=10,\n",
    "    restore_best_weights=True,\n",
    "    verbose=1\n",
    ")\n",
    "\n",
    "# Model Checkpoint: Save the best model based on validation accuracy\n",
    "model_checkpoint = ModelCheckpoint(\n",
    "    filepath='best_model.keras', # Path to save the best model\n",
    "    monitor='val_accuracy',\n",
    "    save_best_only=True,\n",
    "    verbose=1\n",
    ")"
   ]
  },
  {
   "cell_type": "code",
   "execution_count": null,
   "id": "d094fa13",
   "metadata": {},
   "outputs": [
    {
     "name": "stdout",
     "output_type": "stream",
     "text": [
      "Epoch 1/10\n",
      "\u001b[1m1538/1538\u001b[0m \u001b[32m━━━━━━━━━━━━━━━━━━━━\u001b[0m\u001b[37m\u001b[0m \u001b[1m0s\u001b[0m 723ms/step - accuracy: 0.2380 - loss: 2.8803\n",
      "Epoch 1: val_accuracy improved from -inf to 0.60280, saving model to best_model.keras\n",
      "\u001b[1m1538/1538\u001b[0m \u001b[32m━━━━━━━━━━━━━━━━━━━━\u001b[0m\u001b[37m\u001b[0m \u001b[1m1330s\u001b[0m 793ms/step - accuracy: 0.2381 - loss: 2.8800 - val_accuracy: 0.6028 - val_loss: 1.3621\n",
      "Epoch 2/10\n",
      "\u001b[1m1538/1538\u001b[0m \u001b[32m━━━━━━━━━━━━━━━━━━━━\u001b[0m\u001b[37m\u001b[0m \u001b[1m0s\u001b[0m 653ms/step - accuracy: 0.5301 - loss: 1.5839\n",
      "Epoch 2: val_accuracy improved from 0.60280 to 0.66455, saving model to best_model.keras\n",
      "\u001b[1m1538/1538\u001b[0m \u001b[32m━━━━━━━━━━━━━━━━━━━━\u001b[0m\u001b[37m\u001b[0m \u001b[1m1071s\u001b[0m 695ms/step - accuracy: 0.5301 - loss: 1.5838 - val_accuracy: 0.6646 - val_loss: 1.0626\n",
      "Epoch 3/10\n",
      "\u001b[1m1389/1538\u001b[0m \u001b[32m━━━━━━━━━━━━━━━━━━\u001b[0m\u001b[37m━━\u001b[0m \u001b[1m1:38\u001b[0m 660ms/step - accuracy: 0.6147 - loss: 1.2542"
     ]
    }
   ],
   "source": [
    "initial_epochs = 10\n",
    "history = model.fit(\n",
    "    train_ds,\n",
    "    epochs=initial_epochs,\n",
    "    validation_data=val_ds,\n",
    "    callbacks=[early_stopping, model_checkpoint]\n",
    ")\n",
    "\n",
    "# Evaluate the model on the test set\n",
    "print(\"\\nEvaluating on test set:\")\n",
    "loss, accuracy = model.evaluate(test_ds)\n",
    "print(f\"Test Loss: {loss:.4f}\")\n",
    "print(f\"Test Accuracy: {accuracy:.4f}\")"
   ]
  },
  {
   "cell_type": "code",
   "execution_count": 48,
   "id": "3ad691b8",
   "metadata": {},
   "outputs": [
    {
     "data": {
      "text/plain": [
       "Text(0.5, 1.0, 'Loss')"
      ]
     },
     "execution_count": 48,
     "metadata": {},
     "output_type": "execute_result"
    },
    {
     "data": {
      "image/png": "[encoded data removed]",
      "text/plain": [
       "<Figure size 800x800 with 2 Axes>"
      ]
     },
     "metadata": {},
     "output_type": "display_data"
    }
   ],
   "source": [
    "epochs_range = range(epochs_size)\n",
    "plt.figure(figsize=(8,8))\n",
    "plt.subplot(1,2,1)\n",
    "plt.plot(epochs_range, \n",
    "         history.history['accuracy'], \n",
    "         label='Training Accuracy')\n",
    "plt.plot(epochs_range, \n",
    "         history.history['val_accuracy'], \n",
    "         label='Validation Accuracy')\n",
    "plt.title('Accuracy')\n",
    "\n",
    "plt.subplot(1,2,2)\n",
    "plt.plot(epochs_range, \n",
    "         history.history['loss'], \n",
    "         label='Training Loss')\n",
    "plt.plot(epochs_range, \n",
    "         history.history['val_loss'], \n",
    "         label='Validation Loss')\n",
    "plt.title('Loss')"
   ]
  },
  {
   "cell_type": "code",
   "execution_count": 59,
   "id": "b08139a1",
   "metadata": {},
   "outputs": [],
   "source": [
    "image = 'Plants-leaves-images/1.png'\n",
    "image = tf.keras.utils.load_img(\n",
    "    image, \n",
    "    target_size=(img_height, img_width))\n",
    "img_arr = tf.keras.utils.array_to_img(image)\n",
    "img_bat = tf.expand_dims(img_arr, 0)"
   ]
  },
  {
   "cell_type": "code",
   "execution_count": 60,
   "id": "0a29eea9",
   "metadata": {},
   "outputs": [
    {
     "name": "stdout",
     "output_type": "stream",
     "text": [
      "\u001b[1m1/1\u001b[0m \u001b[32m━━━━━━━━━━━━━━━━━━━━\u001b[0m\u001b[37m\u001b[0m \u001b[1m0s\u001b[0m 30ms/step\n"
     ]
    }
   ],
   "source": [
    "predict = model.predict(img_bat)"
   ]
  },
  {
   "cell_type": "code",
   "execution_count": 61,
   "id": "45b57354",
   "metadata": {},
   "outputs": [],
   "source": [
    "score = tf.nn.softmax(predict[0])"
   ]
  },
  {
   "cell_type": "code",
   "execution_count": 62,
   "id": "60748695",
   "metadata": {},
   "outputs": [
    {
     "name": "stdout",
     "output_type": "stream",
     "text": [
      "Veg/Fruit in image is Apple___Black_rot with accuracy of 6.68\n"
     ]
    }
   ],
   "source": [
    "print('Veg/Fruit in image is {} with accuracy of {:0.2f}'.format(data_category[np.argmax(score)], np.max(score)*100))"
   ]
  },
  {
   "cell_type": "code",
   "execution_count": 63,
   "id": "198ca47a",
   "metadata": {},
   "outputs": [],
   "source": [
    "model.save('PlantsLeaves_classify.keras')"
   ]
  }
 ],
 "metadata": {
  "kernelspec": {
   "display_name": "Plant-Disease-Env",
   "language": "python",
   "name": "python3"
  },
  "language_info": {
   "codemirror_mode": {
    "name": "ipython",
    "version": 3
   },
   "file_extension": ".py",
   "mimetype": "text/x-python",
   "name": "python",
   "nbconvert_exporter": "python",
   "pygments_lexer": "ipython3",
   "version": "3.12.10"
  }
 },
 "nbformat": 4,
 "nbformat_minor": 5
}
